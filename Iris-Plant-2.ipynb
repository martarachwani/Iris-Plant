{
 "cells": [
  {
   "cell_type": "code",
   "execution_count": 1,
   "id": "4b547ed5-cb59-45f2-9433-5844489b298b",
   "metadata": {},
   "outputs": [
    {
     "name": "stdout",
     "output_type": "stream",
     "text": [
      "(90, 4)\n",
      "(60, 4)\n",
      "0.95\n",
      "predictions:  ['versicolor', 'virginica']\n"
     ]
    }
   ],
   "source": [
    "from sklearn.datasets import load_iris\n",
    "iris = load_iris ()\n",
    "\n",
    "X = iris.data\n",
    "y = iris.target\n",
    "\n",
    "feature_names = iris.feature_names\n",
    "target_names = iris.target_names\n",
    "target_names\n",
    "\n",
    "from sklearn.model_selection import train_test_split\n",
    "\n",
    "X_train, X_test, y_train, y_test = train_test_split (X,y,test_size = 0.4)\n",
    "\n",
    "print (X_train.shape)\n",
    "print (X_test.shape)\n",
    "\n",
    "from sklearn.neighbors import KNeighborsClassifier\n",
    "knn = KNeighborsClassifier (n_neighbors=3)\n",
    "knn.fit(X_train, y_train)\n",
    "y_pred = knn.predict (X_test)\n",
    "\n",
    "from sklearn import metrics\n",
    "print (metrics.accuracy_score (y_test, y_pred))\n",
    "\n",
    "sample = [[3,5,4,2], [2,3,5,4] ]\n",
    "\n",
    "predictions=knn.predict (sample)\n",
    "pred_species = [iris.target_names [p] for p in predictions]\n",
    "print('predictions: ', pred_species)\n",
    "\n",
    "import joblib \n",
    "from joblib import dump, load\n",
    "\n",
    "model = joblib.dump(knn, 'mlbrain.joblib')\n",
    "\n"
   ]
  },
  {
   "cell_type": "code",
   "execution_count": null,
   "id": "034cf3ed-21dd-4ace-9821-aa4ee85afa29",
   "metadata": {},
   "outputs": [],
   "source": []
  }
 ],
 "metadata": {
  "kernelspec": {
   "display_name": "Python 3 (ipykernel)",
   "language": "python",
   "name": "python3"
  },
  "language_info": {
   "codemirror_mode": {
    "name": "ipython",
    "version": 3
   },
   "file_extension": ".py",
   "mimetype": "text/x-python",
   "name": "python",
   "nbconvert_exporter": "python",
   "pygments_lexer": "ipython3",
   "version": "3.9.7"
  }
 },
 "nbformat": 4,
 "nbformat_minor": 5
}
